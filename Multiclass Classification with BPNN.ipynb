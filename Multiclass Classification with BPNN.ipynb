{
 "cells": [
  {
   "cell_type": "markdown",
   "id": "6aad5711-82cd-4b8c-8670-54e551656690",
   "metadata": {},
   "source": [
    "<center><h1>Multiclass Classification with Backpropagation Neural Network (BPNN)</h1></center>"
   ]
  },
  {
   "cell_type": "markdown",
   "id": "af374eed-97eb-492c-8509-0f281143de3f",
   "metadata": {},
   "source": [
    "First, we get the dataset from the sklearn library. We to import the libraries needed to do data preprocessing such as one hot encoder and split train test library. After that, load the dataset into a variable shown below."
   ]
  },
  {
   "cell_type": "code",
   "execution_count": 1,
   "id": "c713b590-d03b-4013-a1ca-909281bfd476",
   "metadata": {},
   "outputs": [],
   "source": [
    "import numpy as np\n",
    "import pandas as pd\n",
    "\n",
    "from sklearn.preprocessing import OneHotEncoder\n",
    "from sklearn.model_selection import train_test_split\n",
    "from sklearn.datasets import load_digits\n",
    "\n",
    "digits = load_digits()"
   ]
  },
  {
   "cell_type": "markdown",
   "id": "ca50e0f4-a371-4660-8e18-cc7b41d4dbc6",
   "metadata": {},
   "source": [
    "After importing and getting data, we process the data so it can perform a multiclass classification. This can be achieved by encoding the target data with one hot encoder. Lastly, we split the dataset by 80% training and 20% testing"
   ]
  },
  {
   "cell_type": "code",
   "execution_count": 2,
   "id": "a75b1c32-6674-4b5a-bd7b-f593afcb1456",
   "metadata": {},
   "outputs": [],
   "source": [
    "def get_dataset():\n",
    "    dataset_input = digits.data\n",
    "    dataset_output = digits.target\n",
    "    \n",
    "    dataset_output = OneHotEncoder(sparse = False).fit_transform(dataset_output.reshape(-1, 1))\n",
    "    return dataset_input, dataset_output\n",
    "\n",
    "dataset_input, dataset_output = get_dataset()\n",
    "\n",
    "x_train, x_test, y_train, y_test = \\\n",
    "    train_test_split(dataset_input, dataset_output, test_size = 0.2, random_state = 42)\n"
   ]
  },
  {
   "cell_type": "markdown",
   "id": "00076e70-1363-40cc-83c2-6698adfc356c",
   "metadata": {},
   "source": [
    "Now, we define the BPNN architecture parameters by identifying the input and output layer needed to perform the training. In the dataset, the image data contains a matrix that represents pixels in the image. we too found that the size of each element in the matrix represents the intensity of the color. After some analysis, it has been found that the dimension of the matrix is 8 x 8. From this we can define the input layer as all pixel of the image, which is 64. Last but not least, we define the learning rate which is alpha."
   ]
  },
  {
   "cell_type": "code",
   "execution_count": 3,
   "id": "a3f8e984-c141-493b-9952-e28d732ee5f0",
   "metadata": {},
   "outputs": [],
   "source": [
    "#init input and output (user input only)\n",
    "input_layer = 64\n",
    "output_layer = 10\n",
    "alph = 0.05"
   ]
  },
  {
   "cell_type": "markdown",
   "id": "201686f9-ec41-4330-99b3-c7ac1a885f9d",
   "metadata": {},
   "source": [
    "Now, we can define the functions needed for BPNN training. For the initial weights and bias, we use stochastic method to find the parameters needed. We too can make an input that can obtain the amount of hidden layer neuron."
   ]
  },
  {
   "cell_type": "code",
   "execution_count": 4,
   "id": "c05c137f-7b11-47fe-a8d7-f33b5c52f726",
   "metadata": {},
   "outputs": [],
   "source": [
    "def init(input_layer, output_layer):\n",
    "    hidden = int(input(\"Input number of hidden layer: \"))\n",
    "    # input to hidden weights\n",
    "    w_itoh = np.empty((0, input_layer))\n",
    "    for i in range(hidden):\n",
    "        inner_arr = []\n",
    "        for i in range(input_layer):\n",
    "            rand = np.array([[np.random.normal(1, 10) * 0.01]])\n",
    "            inner_arr = np.append(inner_arr, rand)\n",
    "        inner_arr = np.array([inner_arr])\n",
    "        w_itoh = np.append(w_itoh, inner_arr, axis = 0)\n",
    "\n",
    "    # hidden to output weights\n",
    "    w_htoo = np.empty((0, output_layer))\n",
    "    for i in range(hidden):\n",
    "        inner_arr = []\n",
    "        for i in range(output_layer):\n",
    "            rand = np.array([[np.random.normal(1, 10) * 0.01]])\n",
    "            inner_arr = np.append(inner_arr, rand)\n",
    "        inner_arr = np.array([inner_arr])\n",
    "        w_htoo = np.append(w_htoo, inner_arr, axis = 0)\n",
    "    w_htoo = w_htoo.T\n",
    "\n",
    "    # biases\n",
    "    b = np.empty((0, 1))\n",
    "    for i in range(2):\n",
    "        rand = np.array([[np.random.normal(1, 10) * 0.01]])\n",
    "        b = np.append(b, rand, axis = 0)\n",
    "\n",
    "    return hidden, w_itoh, w_htoo, b"
   ]
  },
  {
   "cell_type": "markdown",
   "id": "61ca434b-7665-4bdf-a98e-5d2c622635a3",
   "metadata": {},
   "source": [
    "The function below has a purpose to calculate the error through the desired output and the predicted output."
   ]
  },
  {
   "cell_type": "code",
   "execution_count": 5,
   "id": "2d2e96e7-06fe-4fb3-8e42-c67755649475",
   "metadata": {},
   "outputs": [],
   "source": [
    "def error(output, prediction):\n",
    "    error = 0.5 * (prediction - output) ** 2\n",
    "    return error\n"
   ]
  },
  {
   "cell_type": "markdown",
   "id": "4d637572-e354-4845-bbaa-c49f360d403b",
   "metadata": {},
   "source": [
    "We make the feed_forward function to predict the data. The input data go through the hidden neurons and lastly to the output. For the activation function, we use logistic sigmoid function defined by the formula below. Before go to the hidden and output neuron each, the net output is squashed using the activation function. "
   ]
  },
  {
   "cell_type": "markdown",
   "id": "e931deb4-f68f-4b92-ba88-96ad09f897a4",
   "metadata": {},
   "source": [
    "$ f(x) = sigmoid(x) = \\frac{1}{1 + e^{-x}} $"
   ]
  },
  {
   "cell_type": "code",
   "execution_count": 6,
   "id": "415c4198-100a-47dd-a1d8-acd85751df4c",
   "metadata": {},
   "outputs": [],
   "source": [
    "def feed_forward(data_input, w_itoh, w_htoo, bias):\n",
    "    # input to hidden\n",
    "    net = []\n",
    "    for i in range(len(w_itoh)):\n",
    "        matmul = np.matmul(data_input, w_itoh[i]) + b[0]\n",
    "        net = np.append(net, matmul)\n",
    "\n",
    "    activation1 = 1 / (1 + np.exp(-net))\n",
    "    h1_out = activation1\n",
    "\n",
    "    # hidden to output\n",
    "    net2 = []\n",
    "    for i in range(len(w_htoo)):\n",
    "        matmul1 = np.matmul(activation1, w_htoo[i]) + b[1]\n",
    "        net2 = np.append(net2, matmul1)\n",
    "\n",
    "    output = 1 / (1 + np.exp(-net2))\n",
    "\n",
    "    #check = np.all(output == output[0])\n",
    "    #if check:\n",
    "    #    output = output[0]\n",
    "\n",
    "    return h1_out, output\n"
   ]
  },
  {
   "cell_type": "markdown",
   "id": "2139703a-27dc-4366-9189-310b789c4bdc",
   "metadata": {},
   "source": [
    "For the backpropagation, there are 2 steps of updating all weights in the network, which is output neuron to hidden neuron, and hidden neuron to input. For the weights on the hidden to output, we search for the partial derivatives of the total error in respect of the weights. After some simplification, the formula for updating the weights in hidden - output is defined below."
   ]
  },
  {
   "cell_type": "markdown",
   "id": "34c987c0-dd6b-4e27-812e-943052e01480",
   "metadata": {},
   "source": [
    "$ \\delta = - (output - prediction) \\cdot prediction \\cdot (1 - prediction) \\\\ \n",
    "w_{new} = w_{old} - \\alpha \\cdot out_h \\cdot \\delta $"
   ]
  },
  {
   "cell_type": "markdown",
   "id": "d2ae80a7-8ae6-4b78-8067-00b94afde1b0",
   "metadata": {},
   "source": [
    "After all the weights in hidden - output is updated, we can start to calculate the weights in hidden to input, which is defined by a formula below"
   ]
  },
  {
   "cell_type": "markdown",
   "id": "4b2bbfbc-3095-430a-949c-d65b9dbc1bd6",
   "metadata": {},
   "source": [
    "$ \\delta_{h} = (h_{out}) \\cdot (1 - h_{out}) \\cdot \\delta_o \\\\\n",
    "w_{new} = w_{old} - \\alpha \\delta_{h} \\cdot input$"
   ]
  },
  {
   "cell_type": "markdown",
   "id": "a923a2a1-0e1f-45f8-ab62-9be2ed075b6c",
   "metadata": {},
   "source": [
    "After all the formulas is identified, we can write the function below"
   ]
  },
  {
   "cell_type": "code",
   "execution_count": 7,
   "id": "83c6a144-9635-46bd-a0d4-b088ed21d6e1",
   "metadata": {},
   "outputs": [],
   "source": [
    "def backpropagate(inp, w_itoh, w_htoo, h1_out, pred, output, bias):\n",
    "    delta = - (output - pred) * pred * (1 - pred)\n",
    "    w_htoo_temp = w_htoo\n",
    "    # output to hidden\n",
    "    for i in range(len(delta)):\n",
    "        for j in range(len(h1_out)):\n",
    "            w_htoo[i][j] = w_htoo[i][j] - (alph * h1_out[j] * delta[i])\n",
    "    # hidden to input\n",
    "    w_T = w_htoo.T\n",
    "\n",
    "    w_delta = []\n",
    "    for i in range(len(w_T)):\n",
    "        matmul = np.matmul(delta, w_T[i])\n",
    "        w_delta = np.append(w_delta, matmul)\n",
    "\n",
    "    hidden_delta = (h1_out) * (1 - h1_out) * w_delta\n",
    "\n",
    "    for i in range(len(hidden_delta)):\n",
    "        for j in range(len(inp)):\n",
    "            w_itoh[i][j] = w_itoh[i][j] - (alph * hidden_delta[i] * inp[j])\n",
    "\n",
    "    bias = alph * 1 * delta\n",
    "    return w_itoh, w_htoo, bias\n"
   ]
  },
  {
   "cell_type": "markdown",
   "id": "59473fce-bd58-407f-b5db-e0b550a9e112",
   "metadata": {},
   "source": [
    "For the parameter initialization, the parameters needed is number of neuron in hidden, input, and output layer, the weights, and bias. For the hidden layer, we input the amount of neuron needed, which is 48"
   ]
  },
  {
   "cell_type": "code",
   "execution_count": 8,
   "id": "5755d026-b4f0-48e6-85a5-7539e7f199e8",
   "metadata": {},
   "outputs": [
    {
     "name": "stdin",
     "output_type": "stream",
     "text": [
      "Input number of hidden layer:  48\n"
     ]
    }
   ],
   "source": [
    "hidden, w_itoh, w_htoo, b = init(input_layer, output_layer)"
   ]
  },
  {
   "cell_type": "markdown",
   "id": "699884d1-502b-401a-8620-dd9ce5425c90",
   "metadata": {},
   "source": [
    "Now we can start the training. For this case, the epoch will be 50"
   ]
  },
  {
   "cell_type": "code",
   "execution_count": 9,
   "id": "da1e0584-206d-47d6-a508-d6b84b1d692c",
   "metadata": {},
   "outputs": [
    {
     "name": "stdin",
     "output_type": "stream",
     "text": [
      "Press enter to start... \n"
     ]
    },
    {
     "name": "stdout",
     "output_type": "stream",
     "text": [
      "-----| Training ... |-----\n",
      "Epoch = 5\n",
      "Epoch = 10\n",
      "Epoch = 15\n",
      "Epoch = 20\n",
      "Epoch = 25\n",
      "Epoch = 30\n",
      "Epoch = 35\n",
      "Epoch = 40\n",
      "Epoch = 45\n",
      "Epoch = 50\n",
      "-----| Training Finished |-----\n"
     ]
    }
   ],
   "source": [
    "data_input = np.array(x_train)\n",
    "data_output = np.array(y_train)\n",
    "epoch = 50\n",
    "input(\"Press enter to start...\")\n",
    "result = {\n",
    "    \"epoch\": [],\n",
    "    \"prediction\": [],\n",
    "    \"output\": [],\n",
    "    \"error\": [],\n",
    "    \"mean_error\": []\n",
    "}\n",
    "print(\"-----| Training ... |-----\")\n",
    "for i in range(epoch):\n",
    "    if (i+1) % 5 == 0:\n",
    "        print(\"Epoch = {}\".format(i+1))\n",
    "    for j in range(len(data_input)):\n",
    "        temp_error = []\n",
    "        result[\"epoch\"] = np.append(result[\"epoch\"], i)\n",
    "        h1_out, prediction = feed_forward(data_input[j], w_itoh, w_htoo, b)\n",
    "        loss = error(data_output[j], prediction)\n",
    "        result[\"error\"] = np.append(result[\"error\"], np.sum(loss))\n",
    "        result[\"prediction\"] = np.append(result[\"prediction\"], prediction)\n",
    "        #print(\"Prediction = {}, Output = {}\".format(prediction, data_output[j]))\n",
    "        result[\"output\"] = np.append(result[\"output\"], data_output[j])\n",
    "        w_itoh, w_htoo, b = backpropagate(data_input[j], w_itoh, w_htoo, h1_out, prediction, data_output[j], b)\n",
    "        temp_error = np.append(temp_error, loss)\n",
    "        #print(\"Loss = {}\".format(loss))\n",
    "    mean_error = np.mean(temp_error)\n",
    "    for i in range(len(data_input)):\n",
    "        result[\"mean_error\"] = np.append(result[\"mean_error\"], mean_error)\n",
    "\n",
    "print(\"-----| Training Finished |-----\")"
   ]
  },
  {
   "cell_type": "markdown",
   "id": "8c3f8ea7-eb52-4dd8-afd7-f68ea7d92337",
   "metadata": {},
   "source": [
    "Now the training is complete, we can show the error curves to validate are the error is descending or not. As you can see, the error is decresed by 10 - 20th epochs."
   ]
  },
  {
   "cell_type": "code",
   "execution_count": 10,
   "id": "3e570704-46ef-4b36-adaa-2ff4e4e58440",
   "metadata": {},
   "outputs": [
    {
     "data": {
      "image/png": "[encoded data removed]",
      "text/plain": [
       "<Figure size 432x288 with 1 Axes>"
      ]
     },
     "metadata": {
      "needs_background": "light"
     },
     "output_type": "display_data"
    }
   ],
   "source": [
    "import matplotlib.pyplot as plt\n",
    "plt.plot(result[\"epoch\"], result[\"mean_error\"])\n",
    "plt.title(\"Mean Error VS Epoch\")\n",
    "plt.xlabel(\"epoch\")\n",
    "plt.ylabel(\"mean error\")\n",
    "plt.show()"
   ]
  },
  {
   "cell_type": "markdown",
   "id": "8f434f05-f3a9-4ace-85c4-3e1d93d64247",
   "metadata": {},
   "source": [
    "Now we can test the model using the earlier 20% slice of the dataset. For the testing, the program will output the prediction and expected result if there is an error between them. After that, show the accuracy of the model"
   ]
  },
  {
   "cell_type": "code",
   "execution_count": 11,
   "id": "c529db34-e2d6-4dc5-9d26-9ecb717197ee",
   "metadata": {},
   "outputs": [
    {
     "name": "stdin",
     "output_type": "stream",
     "text": [
      "Press enter to start... \n"
     ]
    },
    {
     "name": "stdout",
     "output_type": "stream",
     "text": [
      "-----| Testing |-----\n",
      "Prediction = 9, Output = 7 Error!\n",
      "Prediction = 5, Output = 3 Error!\n",
      "Prediction = 7, Output = 9 Error!\n",
      "Prediction = 2, Output = 5 Error!\n",
      "Prediction = 1, Output = 8 Error!\n",
      "Prediction = 5, Output = 8 Error!\n",
      "Prediction = 5, Output = 6 Error!\n",
      "Prediction = 6, Output = 5 Error!\n",
      "-----| Testing Finished |-----\n",
      "Accuracy = 97.77777777777777%\n"
     ]
    }
   ],
   "source": [
    "mean_error = 0\n",
    "data_input = np.array(x_test)\n",
    "data_output = np.array(y_test)\n",
    "input(\"Press enter to start...\")\n",
    "result_test = {\n",
    "    \"n_data\": [],\n",
    "    \"prediction\": [],\n",
    "    \"output\": [],\n",
    "    \"error\": [],\n",
    "    \"mean_error\": []\n",
    "}\n",
    "print(\"-----| Testing |-----\")\n",
    "for i in range(len(data_input)):\n",
    "    temp_error = []\n",
    "    h1_out, prediction = feed_forward(data_input[i], w_itoh, w_htoo, b)\n",
    "    loss = error(data_output[i], prediction)\n",
    "    result_test[\"error\"] = np.append(result_test[\"error\"], np.sum(loss))\n",
    "    result_test[\"prediction\"] = np.append(result_test[\"prediction\"], np.argmax(prediction) + 1)\n",
    "    if np.argmax(prediction) != np.argmax(data_output[i]):\n",
    "        print(\"Prediction = {}, Output = {} Error!\".format(np.argmax(prediction), np.argmax(data_output[i])))\n",
    "    #else:\n",
    "    #    print(\"Prediction = {}, Output = {}\".format(np.argmax(prediction), np.argmax(data_output[i])))\n",
    "    result_test[\"output\"] = np.append(result_test[\"output\"], np.argmax(data_output[i]) + 1)\n",
    "    result_test[\"n_data\"] = np.append(result_test[\"n_data\"], i)\n",
    "    temp_error = np.append(temp_error, loss)\n",
    "    mean_error = np.mean(temp_error)\n",
    "    for i in range(len(data_input)):\n",
    "        result_test[\"mean_error\"] = np.append(result_test[\"mean_error\"], mean_error)\n",
    "\n",
    "print(\"-----| Testing Finished |-----\")\n",
    "from sklearn.metrics import accuracy_score\n",
    "accuracy = accuracy_score(result_test[\"prediction\"], result_test[\"output\"])\n",
    "print(\"Accuracy = {}%\".format(accuracy * 100))"
   ]
  },
  {
   "cell_type": "markdown",
   "id": "59f1a995-39ea-4b95-b43d-3bf9e769c8a4",
   "metadata": {},
   "source": [
    "We can show the matrix confusion diagram to show the analysis of the testing session more clearly"
   ]
  },
  {
   "cell_type": "code",
   "execution_count": 12,
   "id": "54e98cbc-cbfe-4d74-9c0a-4ff81e50e68d",
   "metadata": {},
   "outputs": [
    {
     "name": "stdout",
     "output_type": "stream",
     "text": [
      "----- Confusion matrix -----\n"
     ]
    },
    {
     "data": {
      "text/plain": [
       "<AxesSubplot:>"
      ]
     },
     "execution_count": 12,
     "metadata": {},
     "output_type": "execute_result"
    },
    {
     "data": {
      "image/png": "[encoded data removed]",
      "text/plain": [
       "<Figure size 432x288 with 2 Axes>"
      ]
     },
     "metadata": {
      "needs_background": "light"
     },
     "output_type": "display_data"
    }
   ],
   "source": [
    "import seaborn as sns\n",
    "from sklearn.metrics import confusion_matrix\n",
    "conf_matrix = confusion_matrix(result_test[\"prediction\"], result_test[\"output\"])\n",
    "print(\"----- Confusion matrix -----\")\n",
    "sns.heatmap(conf_matrix, annot=True)"
   ]
  },
  {
   "cell_type": "markdown",
   "id": "da0a5296-a96b-4341-9b10-dc3f2c548b8a",
   "metadata": {},
   "source": [
    "So, for the conclusion, the BPNN architecture is very great for multiclass classification as seen by the testing session's accuracy (97.7%) above. "
   ]
  }
 ],
 "metadata": {
  "kernelspec": {
   "display_name": "Python 3 (ipykernel)",
   "language": "python",
   "name": "python3"
  },
  "language_info": {
   "codemirror_mode": {
    "name": "ipython",
    "version": 3
   },
   "file_extension": ".py",
   "mimetype": "text/x-python",
   "name": "python",
   "nbconvert_exporter": "python",
   "pygments_lexer": "ipython3",
   "version": "3.9.7"
  }
 },
 "nbformat": 4,
 "nbformat_minor": 5
}
